{
 "cells": [
  {
   "cell_type": "markdown",
   "metadata": {},
   "source": [
    "# Stock Evaluator"
   ]
  },
  {
   "cell_type": "markdown",
   "metadata": {},
   "source": [
    "This program will ask the user for a stock ticker.  The program will return company profile information and a buy, hold, sell recommendation if the ticker data is available.\n",
    "\n"
   ]
  },
  {
   "cell_type": "markdown",
   "metadata": {},
   "source": [
    "## Pseudocode\n",
    "\n",
    "Import historical stock data organized by ticker\n",
    "\n",
    "Improt ticker profile data\n",
    "\n",
    "Ask the user what stock ticker they want to evaluate via an inport box\n",
    "\n",
    "Sett the ticker input as a variable\n",
    "\n",
    "Identify is the ticker data matches with any ticker information in the historical data\n",
    "\n",
    "    if the ticker data is available\n",
    "        find the name of the company\n",
    "        find the exchange the stock is trading on\n",
    "        find the provide the market cap\n",
    "        \n",
    "        tell the user the name of the company\n",
    "        tell the user the exchange the stock is traded on\n",
    "        tell the user the market cap\n",
    "    \n",
    "    if the ticker is not there\n",
    "        tell the user that the data is not available\n",
    "\n",
    "\n",
    "program will calculate the weekly change in the stock ticker\n",
    "\n",
    "find the closing price of the last day of the week\n",
    "find the closing price of the first day of the week\n",
    "\n",
    "calculate the percentage change in stock price based on the closing prices in the data\n",
    "\n",
    "evaluate the performance of the stock by determining if it is a sell, hold, or buy\n",
    "\n",
    "If the stock price increases 10%\n",
    "    \n",
    "    print the stock is a buy\n",
    "    \n",
    "else if the stock price remains between 0% and 10%\n",
    "\n",
    "    print the stock is a hold\n",
    "\n",
    "else \n",
    "\n",
    "    print the stock is a sell\n",
    "\n",
    "    indicate that the stock should be sold"
   ]
  },
  {
   "cell_type": "code",
   "execution_count": 15,
   "metadata": {},
   "outputs": [],
   "source": [
    "# Historical stock data available for evaluation\n",
    "# Key: Stock Ticker | Value: List of Records\n",
    "# Record: Date, Open, High, Low, Close\n",
    "historical_stock_data = {\n",
    "    \"AAPL\": [\n",
    "        [\"04-17-2019\", 199.54, 203.38, 198.61, 203.13],\n",
    "        [\"04-18-2019\", 199.46, 201.37, 198.56, 199.25],\n",
    "        [\"04-19-2019\", 198.58, 199.85, 198.01, 199.23],\n",
    "        [\"04-20-2019\", 199.20, 200.14, 196.21, 198.87],\n",
    "\n",
    "    ],\n",
    "    \"MU\": [\n",
    "        [\"04-17-2019\", 43.20, 43.53, 42.79, 43.40],\n",
    "        [\"04-18-2019\", 43.36, 44.05, 42.76, 43.15],\n",
    "        [\"04-19-2019\", 42.26, 42.93, 42.08, 42.76],\n",
    "        [\"04-20-2019\", 42.17, 42.23, 41.20, 41.82],\n",
    "\n",
    "    ],\n",
    "    \"AMD\": [\n",
    "        [\"04-17-2019\", 27.60, 27.88, 27.34, 27.68],\n",
    "        [\"04-18-2019\", 28.21, 28.27, 27.22, 27.49],\n",
    "        [\"04-19-2019\", 27.72, 28.18, 27.49, 27.93],\n",
    "        [\"04-20-2019\", 27.80, 27.84, 26.96, 27.33],\n",
    "\n",
    "    ],\n",
    "    \"TWTR\": [\n",
    "        [\"04-17-2019\", 34.67, 34.86, 34.32, 34.40],\n",
    "        [\"04-18-2019\", 34.73, 34.90, 34.20, 34.48],\n",
    "        [\"04-19-2019\", 34.84, 34.99, 34.23, 34.46],\n",
    "        [\"04-20-2019\", 34.38, 35.03, 34.34, 34.71],\n",
    "\n",
    "    ]\n",
    "}\n",
    "\n",
    "\n",
    "# Company Profile Information based on Ticker\n",
    "# Key: Stock Ticker | Value: \n",
    "stocks_profile_dict = {\n",
    "    \"AAPL\": {\n",
    "        \"name\": \"Apple\",\n",
    "        \"exchange\": \"NASDAQ\",\n",
    "        \"market_cap\": 937.7\n",
    "    },\n",
    "    \"MU\": {\n",
    "        \"name\": \"Micron Technology\",\n",
    "        \"exchange\": \"NASDAQ\",\n",
    "        \"market_cap\": 48.03\n",
    "    },\n",
    "    \"AMD\": {\n",
    "        \"name\": \"Advanced Micro Devices\",\n",
    "        \"exchange\": \"NASDAQ\",\n",
    "        \"market_cap\": 29.94\n",
    "    },\n",
    "    \"TWTR\": {\n",
    "        \"name\": \"Twitter\",\n",
    "        \"exchange\": \"NASDAQ\",\n",
    "        \"market_cap\": 26.42\n",
    "    }\n",
    "}"
   ]
  },
  {
   "cell_type": "code",
   "execution_count": 16,
   "metadata": {},
   "outputs": [
    {
     "name": "stdout",
     "output_type": "stream",
     "text": [
      "----Please enter the ticker of the stock you wish to evaluate:----\n"
     ]
    },
    {
     "name": "stdin",
     "output_type": "stream",
     "text": [
      " TWTR\n"
     ]
    },
    {
     "name": "stdout",
     "output_type": "stream",
     "text": [
      "User ticker entry is TWTR.\n",
      "                                  \n",
      "---------COMPANY PROFILE----------\n",
      "You have enterted the stock ticker for Twitter.\n",
      "This stock is traded on the NASDAQ and has a market cap of $26.42 Billion!\n"
     ]
    }
   ],
   "source": [
    "# Defines the stock ticker (variable) which is user wishes to evaluate\n",
    "\n",
    "# Asks the user to for the stock ticker variable\n",
    "print(\"----Please enter the ticker of the stock you wish to evaluate:----\")\n",
    "\n",
    "# Defines the stock ticker variable\n",
    "stock_ticker = input()\n",
    "\n",
    "# Checks if the stock ticker (key) exists in the data\n",
    "if stock_ticker in stocks_profile_dict:\n",
    "    # Tells the user the ticker entry.\n",
    "    print(f\"User ticker entry is {stock_ticker}.\")\n",
    "    \n",
    "    # Retrieve stock information\n",
    "    stock_ticker_name = stocks_profile_dict[stock_ticker][\"name\"]\n",
    "    stock_ticker_exchange = stocks_profile_dict[stock_ticker][\"exchange\"]\n",
    "    stock_ticker_market_cap = stocks_profile_dict[stock_ticker][\"market_cap\"]\n",
    "    \n",
    "    # Provides user a profile of the company based on ticker entereted\n",
    "    print(\"                                  \")\n",
    "    print(\"---------COMPANY PROFILE----------\")\n",
    "    print(f\"You have enterted the stock ticker for {stock_ticker_name}.\")\n",
    "    print(f\"This stock is traded on the {stock_ticker_exchange} and has a market cap of ${stock_ticker_market_cap} Billion!\")\n",
    "          \n",
    "else: \n",
    "    print(\"                                  \")\n",
    "    print(\"----------------COMPANY PROFILE------------------------\")\n",
    "    print(f\"-------User ticker entry is {stock_ticker}.------------------\")\n",
    "    print(\"--------Ticker entry could not be found.---------------\")"
   ]
  },
  {
   "cell_type": "code",
   "execution_count": 17,
   "metadata": {},
   "outputs": [
    {
     "name": "stdout",
     "output_type": "stream",
     "text": [
      "Weekly change in stock value: 0.9%.\n"
     ]
    }
   ],
   "source": [
    "# Calculate the weekly change in stock ticker\n",
    "    \n",
    "# Set the closing prices of first and last records of stock ticker enterted by user\n",
    "ending_week_close = historical_stock_data[stock_ticker][-1][4]\n",
    "beginning_week_close = historical_stock_data[stock_ticker][0][4]\n",
    "\n",
    "# Calculate the weekly change per stock ticker\n",
    "ticker_weekly_change = round((ending_week_close - beginning_week_close) / beginning_week_close * 100, 2)\n",
    "\n",
    "print(f\"Weekly change in stock value: {ticker_weekly_change}%.\")"
   ]
  },
  {
   "cell_type": "code",
   "execution_count": 18,
   "metadata": {},
   "outputs": [
    {
     "name": "stdout",
     "output_type": "stream",
     "text": [
      "------------STOCK RATING------------\n",
      "                                     \n",
      "Twitter is rated a hold.\n"
     ]
    }
   ],
   "source": [
    "# Determine if the stock is a buy, hold, or sell based on weekly change\n",
    "\n",
    "# Checks the weekly change in stock price against buy critieria\n",
    "if ticker_weekly_change > 10:\n",
    "    print(\"------------STOCK RATING------------\")\n",
    "    print(\"                                     \")\n",
    "    print(f\"{stock_ticker_name} is rated a buy.\")\n",
    "\n",
    "# Checks the weekly change in stock price against buy critieria\n",
    "elif ticker_weekly_change >= 0 and ticker_weekly_change <= 10: \n",
    "    print(\"------------STOCK RATING------------\")\n",
    "    print(\"                                     \")\n",
    "    print(f\"{stock_ticker_name} is rated a hold.\")\n",
    "\n",
    "    # Checks the weekly change in stock price against buy critieria\n",
    "else:\n",
    "    print(\"------------STOCK RATING------------\")\n",
    "    print(\"                                     \")\n",
    "    print(f\"{stock_ticker_name} is rated a sell.\")"
   ]
  },
  {
   "cell_type": "code",
   "execution_count": null,
   "metadata": {},
   "outputs": [],
   "source": []
  }
 ],
 "metadata": {
  "kernelspec": {
   "display_name": "Python 3",
   "language": "python",
   "name": "python3"
  },
  "language_info": {
   "codemirror_mode": {
    "name": "ipython",
    "version": 3
   },
   "file_extension": ".py",
   "mimetype": "text/x-python",
   "name": "python",
   "nbconvert_exporter": "python",
   "pygments_lexer": "ipython3",
   "version": "3.7.7"
  }
 },
 "nbformat": 4,
 "nbformat_minor": 4
}
